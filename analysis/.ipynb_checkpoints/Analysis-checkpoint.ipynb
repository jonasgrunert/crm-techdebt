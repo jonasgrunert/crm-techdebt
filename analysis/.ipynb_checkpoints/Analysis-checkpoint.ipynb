{
 "cells": [
  {
   "cell_type": "code",
   "execution_count": 2,
   "metadata": {},
   "outputs": [],
   "source": [
    "import pandas as pd;\n",
    "from sklearn.covariance import empirical_covariance\n",
    "import math\n",
    "import numpy as np\n",
    "from sklearn.preprocessing import StandardScaler\n",
    "from sklearn.decomposition import PCA\n",
    "from sklearn.pipeline import Pipeline\n",
    "import matplotlib.pyplot as plt\n",
    "from sklearn.model_selection import train_test_split\n",
    "from sklearn import tree\n",
    "from sklearn.ensemble import RandomForestClassifier\n",
    "from sklearn.linear_model import LinearRegression\n",
    "from sklearn.metrics import accuracy_score, mean_absolute_error, mean_squared_error, r2_score\n",
    "from git import Repo\n",
    "import graphviz\n",
    "df = pd.read_csv(\"../crawler/data.csv\")"
   ]
  },
  {
   "cell_type": "code",
   "execution_count": 3,
   "metadata": {},
   "outputs": [],
   "source": [
    "# Data cleaning\n",
    "df.fillna(0, inplace=True)\n",
    "df[\"# Churn (over 5)\"] = np.where((df[\"# Churn (over 5)\"] != 0),df[\"# Churn (over 5)\"]-df[\"# Churn (over 3)\"],df[\"# Churn (over 5)\"])\n",
    "df[\"# Churn (over 3)\"] = np.where((df[\"# Churn (over 3)\"] != 0),df[\"# Churn (over 3)\"]-df[\"# Churn\"],df[\"# Churn (over 3)\"])\n",
    "df[\"# Lines added (over 5)\"] = np.where((df[\"# Lines added (over 5)\"] != 0),df[\"# Lines added (over 5)\"]-df[\"# Lines added (over 3)\"],df[\"# Lines added (over 5)\"])\n",
    "df[\"# Lines added (over 3)\"] = np.where((df[\"# Lines added (over 3)\"] != 0),df[\"# Lines added (over 3)\"]-df[\"# Lines added\"],df[\"# Lines added (over 3)\"])\n",
    "df[\"# Lines removed (over 5)\"] = np.where((df[\"# Lines removed (over 5)\"] != 0),df[\"# Lines removed (over 5)\"]-df[\"# Lines removed (over 3)\"],df[\"# Lines removed (over 5)\"])\n",
    "df[\"# Lines removed (over 3)\"] = np.where((df[\"# Lines removed (over 3)\"] != 0),df[\"# Lines removed (over 3)\"]-df[\"# Lines removed\"],df[\"# Lines removed (over 3)\"])\n",
    "df[\"# Contributors committed (over 5)\"] = np.where((df[\"# Contributors committed (over 5)\"] != 0),df[\"# Contributors committed (over 5)\"]-df[\"# Contributors committed (over 5)\"],df[\"# Contributors committed (over 5)\"])"
   ]
  },
  {
   "cell_type": "code",
   "execution_count": 15,
   "metadata": {},
   "outputs": [],
   "source": [
    "def sqale_delta(row, metric):\n",
    "    repo = Repo(\"../crawler/repo/\"+row[\"project\"])\n",
    "    c = repo.commit(row[\"hash\"])\n",
    "    if len(c.parents) == 0:\n",
    "        return 0 \n",
    "    parent = c.parents[0]\n",
    "    parent_Sqale = df.loc[df[\"hash\"] == parent.hexsha]\n",
    "    if len(parent_Sqale) == 0:\n",
    "        return 0\n",
    "    diff = parent_Sqale[metric]-row[metric]\n",
    "    return diff.iloc[0]\n",
    "df[\"SQALE Delta\"] = df.apply(lambda row: sqale_delta(row, \"SQALE\"), axis = 1)\n",
    "df[\"Complexity Delta\"] = df.apply(lambda row: sqale_delta(row, \"Complexity\"), axis = 1)\n",
    "df[\"% Comments Delta\"] = df.apply(lambda row: sqale_delta(row, \"% Comments\"), axis = 1)\n",
    "df[\"% Duplicated lines Delta\"] = df.apply(lambda row: sqale_delta(row, \"% Duplicated lines\"), axis = 1)"
   ]
  },
  {
   "cell_type": "code",
   "execution_count": 16,
   "metadata": {},
   "outputs": [],
   "source": [
    "df[\"Debt Indicator\"] = df.apply(lambda row: 0 if row[\"SQALE Delta\"] < 0 else 1)\n",
    "df.to_csv(\"cleaned_data.csv\")"
   ]
  },
  {
   "cell_type": "code",
   "execution_count": 40,
   "metadata": {},
   "outputs": [
    {
     "name": "stdout",
     "output_type": "stream",
     "text": [
      "# Lines added to # Lines removed: 0.440217859033384\n",
      "# Lines added (over 3) to # Lines removed (over 3): 0.3625800475842895\n",
      "# Lines added (over 5) to # Lines removed (over 5): 0.3538734193594511\n",
      "# Lines removed to # Lines added: 0.440217859033384\n",
      "# Lines removed (over 3) to # Lines added (over 3): 0.3625800475842895\n",
      "# Lines removed (over 5) to # Lines added (over 5): 0.35387341935945116\n",
      "# Hunks count to # Contributors committed (over 3): 0.3425247306288411\n",
      "# Contributors committed (over 3) to # Hunks count: 0.3425247306288411\n"
     ]
    }
   ],
   "source": [
    "# Clusteranalyse\n",
    "# Covariance matrix, remove correlating stuff: over time data and lines removed, added etc\n",
    "s = df[[\"# Lines added\",\"# Lines added (over 3)\",\"# Lines added (over 5)\",\"# Lines removed\",\"# Lines removed (over 3)\",\"# Lines removed (over 5)\",\"# Hunks count\",\"# Files committed\",\"# Contributors committed (over 3)\",\"# Contributors committed (over 5)\"]].copy()\n",
    "s.astype(int)\n",
    "cov = empirical_covariance(s)\n",
    "for i, row in enumerate(cov):\n",
    "    for j, cell in enumerate(row):\n",
    "        if not math.isnan(cell) and i != j:\n",
    "            p = s[s.columns[i]].corr(s[s.columns[j]])\n",
    "            if (abs(p) > 0.3):\n",
    "                print(s.columns[i] + \" to \"+ s.columns[j] + \": \"+ str(p))"
   ]
  },
  {
   "cell_type": "code",
   "execution_count": 41,
   "metadata": {},
   "outputs": [
    {
     "name": "stdout",
     "output_type": "stream",
     "text": [
      "-7701\n",
      "-1.3305162174508909\n",
      "11784\n"
     ]
    }
   ],
   "source": [
    "print(min(df[\"SQALE Delta\"]))\n",
    "print(np.average(df[\"SQALE Delta\"]))\n",
    "print(max(df[\"SQALE Delta\"]))"
   ]
  },
  {
   "cell_type": "code",
   "execution_count": 42,
   "metadata": {},
   "outputs": [
    {
     "data": {
      "image/png": "[encoded data removed]",
      "text/plain": [
       "<Figure size 432x288 with 1 Axes>"
      ]
     },
     "metadata": {
      "needs_background": "light"
     },
     "output_type": "display_data"
    }
   ],
   "source": [
    "# Scikit learn pca, components_ plotting on 2D the first two elements\n",
    "sc = StandardScaler()\n",
    "pca = PCA()\n",
    "r = pca.fit_transform(sc.fit_transform(s))\n",
    "plt.scatter(r[:,0],r[:,1], c=[\"g\" if x < 0 else \"b\" for x in df[\"SQALE Delta\"]])\n",
    "plt.show()"
   ]
  },
  {
   "cell_type": "code",
   "execution_count": 43,
   "metadata": {},
   "outputs": [
    {
     "name": "stdout",
     "output_type": "stream",
     "text": [
      "0.15038836801826821\n",
      "-0.0733752122888851\n",
      "0.03567479973080883\n",
      "-0.31713427308427955\n",
      "0.8461573074412754\n",
      "0.39099314020969933\n",
      "-0.0017621832121776295\n",
      "0.03518969366718538\n",
      "0.005346173752120266\n",
      "0.004975183883393769\n",
      "0.0\n"
     ]
    },
    {
     "data": {
      "image/png": "[encoded data removed]",
      "text/plain": [
       "<Figure size 432x288 with 1 Axes>"
      ]
     },
     "metadata": {
      "needs_background": "light"
     },
     "output_type": "display_data"
    }
   ],
   "source": [
    "# and explained_variance_ as histogram good if variance ~60%\n",
    "fig, ax = plt.subplots()\n",
    "ax.bar(np.arange(len(pca.explained_variance_ratio_)),pca.explained_variance_ratio_)\n",
    "ax.set_ylabel(\"Variance\")\n",
    "ax.set_xlabel(\"PCA\")\n",
    "for n in pca.components_:\n",
    "    print(n[7])"
   ]
  },
  {
   "cell_type": "code",
   "execution_count": 44,
   "metadata": {},
   "outputs": [
    {
     "data": {
      "image/png": "[encoded data removed]",
      "text/plain": [
       "<Figure size 432x288 with 1 Axes>"
      ]
     },
     "metadata": {
      "needs_background": "light"
     },
     "output_type": "display_data"
    },
    {
     "name": "stdout",
     "output_type": "stream",
     "text": [
      "0.41558405607525456\n",
      "0.011223476895735775\n",
      "-0.16306270683551163\n",
      "-0.4587675116053706\n",
      "-0.03042035438873153\n",
      "-0.10544118941190872\n",
      "-0.34081959689658653\n",
      "0.037937988424259717\n",
      "0.6539452062314497\n",
      "0.07192637604962701\n",
      "0.1662786292113728\n",
      "-9.164304382910544e-16\n"
     ]
    },
    {
     "data": {
      "text/plain": [
       "<BarContainer object of 12 artists>"
      ]
     },
     "execution_count": 44,
     "metadata": {},
     "output_type": "execute_result"
    },
    {
     "data": {
      "image/png": "[encoded data removed]",
      "text/plain": [
       "<Figure size 432x288 with 1 Axes>"
      ]
     },
     "metadata": {
      "needs_background": "light"
     },
     "output_type": "display_data"
    }
   ],
   "source": [
    "# introduce feature random variable and try it again\n",
    "t = s.copy()\n",
    "scr = StandardScaler()\n",
    "pcar = PCA()\n",
    "t[\"random\"] = np.random.normal(0, 50, s.shape[0])\n",
    "r2= pcar.fit_transform(scr.fit_transform(t))\n",
    "plt.scatter(r2[:,0],r2[:,1], c=[\"g\" if x < 0 else \"b\" for x in df[\"SQALE Delta\"]])\n",
    "plt.show()\n",
    "for n in pcar.components_:\n",
    "    print(n[8])\n",
    "# and explained_variance_ as histogram good if variance ~60%\n",
    "plt.bar(np.arange(len(pcar.explained_variance_ratio_)),pcar.explained_variance_ratio_)"
   ]
  },
  {
   "cell_type": "code",
   "execution_count": 49,
   "metadata": {},
   "outputs": [],
   "source": [
    "# SQALE PRedcition over all better adding % actually insanely helps the accuracy\n",
    "y = df[\"SQALE Delta\"] #df[\"Complexity\"] \n",
    "X = df[[\"# Lines added\",\"# Lines added (over 3)\",\"# Lines added (over 5)\",\"# Lines removed\",\"# Lines removed (over 3)\",\"# Lines removed (over 5)\",\"# Hunks count\",\"# Files committed\",\"# Contributors committed (over 3)\",\"# Contributors committed (over 5)\"]].copy()\n",
    "X_train, X_test, y_train, y_test = train_test_split(X, y, test_size=0.2, random_state=0)"
   ]
  },
  {
   "cell_type": "code",
   "execution_count": 50,
   "metadata": {},
   "outputs": [
    {
     "name": "stdout",
     "output_type": "stream",
     "text": [
      "Accuracy: 0.6341324200913242 with depth of 35\n"
     ]
    }
   ],
   "source": [
    "# decision tree\n",
    "dtree = tree.DecisionTreeClassifier()\n",
    "dtree.fit(X_train, y_train)\n",
    "y_pred = dtree.predict(X_test)\n",
    "\n",
    "print('Accuracy: ' + str(accuracy_score(y_test, y_pred))+\" with depth of \"+str(dtree.get_depth()))"
   ]
  },
  {
   "cell_type": "code",
   "execution_count": 51,
   "metadata": {},
   "outputs": [],
   "source": [
    "# tree view\n",
    "#dot_data = tree.export_graphviz(dtree, out_file=None) \n",
    "#graph = graphviz.Source(dot_data) \n",
    "#graph.render(\"sqale.png\")"
   ]
  },
  {
   "cell_type": "code",
   "execution_count": 52,
   "metadata": {},
   "outputs": [
    {
     "name": "stdout",
     "output_type": "stream",
     "text": [
      "Accuracy: 0.7962328767123288\n"
     ]
    }
   ],
   "source": [
    "# random forest\n",
    "forest = RandomForestClassifier()\n",
    "forest.fit(X_train, y_train)\n",
    "y_pred = forest.predict(X_test)\n",
    "\n",
    "print('Accuracy: ' + str(accuracy_score(y_test, y_pred)))"
   ]
  },
  {
   "cell_type": "code",
   "execution_count": 53,
   "metadata": {},
   "outputs": [
    {
     "name": "stdout",
     "output_type": "stream",
     "text": [
      "MAE: 24.38106164765102\n",
      "MSE: 90610.7264124676\n",
      "R2: -0.0665762545056261\n"
     ]
    }
   ],
   "source": [
    "# linear regression\n",
    "reg = LinearRegression()\n",
    "reg.fit(X_train, y_train)\n",
    "y_pred = reg.predict(X_test)\n",
    "\n",
    "print('MAE: ' + str(mean_absolute_error(y_test, y_pred)))\n",
    "print('MSE: ' + str(mean_squared_error(y_test, y_pred)))\n",
    "print('R2: ' + str(r2_score(y_test, y_pred)))"
   ]
  },
  {
   "cell_type": "code",
   "execution_count": 21,
   "metadata": {},
   "outputs": [],
   "source": [
    "# Overtall predictions greatly increase by using code centric metrics\n",
    "# 0.6 seems like a hard limit on how accurate a prediction can be\n",
    "# follow up use differences in values between commits"
   ]
  },
  {
   "cell_type": "code",
   "execution_count": null,
   "metadata": {},
   "outputs": [],
   "source": []
  }
 ],
 "metadata": {
  "kernelspec": {
   "display_name": "Python 3",
   "language": "python",
   "name": "python3"
  },
  "language_info": {
   "codemirror_mode": {
    "name": "ipython",
    "version": 3
   },
   "file_extension": ".py",
   "mimetype": "text/x-python",
   "name": "python",
   "nbconvert_exporter": "python",
   "pygments_lexer": "ipython3",
   "version": "3.7.6"
  }
 },
 "nbformat": 4,
 "nbformat_minor": 4
}
